{
 "cells": [
  {
   "cell_type": "code",
   "execution_count": 1,
   "id": "2d80ef75-e19d-48b0-a824-55e569fcbd98",
   "metadata": {},
   "outputs": [
    {
     "name": "stdout",
     "output_type": "stream",
     "text": [
      "CSV files generated successfully!\n"
     ]
    }
   ],
   "source": [
    "import pandas as pd\n",
    "\n",
    "# Diccionario con datos de ejemplo\n",
    "tables = {\n",
    "    \"Hub_Customer\": pd.DataFrame({\n",
    "        \"customer_hk\": [1001, 1002],\n",
    "        \"customer_id\": [1, 2],\n",
    "        \"load_date\": [\"2025-02-19\", \"2025-02-19\"],\n",
    "        \"record_source\": [\"CRM\", \"CRM\"]\n",
    "    }),\n",
    "    \"Hub_Policy\": pd.DataFrame({\n",
    "        \"policy_hk\": [2001, 2002],\n",
    "        \"policy_id\": [101, 102],\n",
    "        \"customer_hk\": [1001, 1002],\n",
    "        \"load_date\": [\"2025-02-19\", \"2025-02-19\"],\n",
    "        \"record_source\": [\"Insurance System\", \"Insurance System\"]\n",
    "    }),\n",
    "    \"Hub_Claim\": pd.DataFrame({\n",
    "        \"claim_hk\": [3001, 3002],\n",
    "        \"claim_id\": [10001, 10002],\n",
    "        \"policy_hk\": [2001, 2002],\n",
    "        \"customer_hk\": [1001, 1002],\n",
    "        \"load_date\": [\"2025-02-19\", \"2025-02-19\"],\n",
    "        \"record_source\": [\"Claims System\", \"Claims System\"]\n",
    "    }),\n",
    "    \"Link_Customer_Policy\": pd.DataFrame({\n",
    "        \"link_customer_policy_hk\": [4001, 4002],\n",
    "        \"customer_hk\": [1001, 1002],\n",
    "        \"policy_hk\": [2001, 2002],\n",
    "        \"load_date\": [\"2025-02-19\", \"2025-02-19\"],\n",
    "        \"record_source\": [\"Policy System\", \"Policy System\"]\n",
    "    }),\n",
    "    \"Link_Policy_Claim\": pd.DataFrame({\n",
    "        \"link_policy_claim_hk\": [5001, 5002],\n",
    "        \"policy_hk\": [2001, 2002],\n",
    "        \"claim_hk\": [3001, 3002],\n",
    "        \"load_date\": [\"2025-02-19\", \"2025-02-19\"],\n",
    "        \"record_source\": [\"Claims System\", \"Claims System\"]\n",
    "    }),\n",
    "    \"Sat_Customer\": pd.DataFrame({\n",
    "        \"customer_hk\": [1001, 1002],\n",
    "        \"name\": [\"John Doe\", \"Jane Smith\"],\n",
    "        \"address\": [\"123 Main St\", \"456 Elm St\"],\n",
    "        \"phone\": [\"+123456789\", \"+987654321\"],\n",
    "        \"age\": [35, 42],\n",
    "        \"income\": [50000.00, 70000.00],\n",
    "        \"risk_level\": [\"Low\", \"Medium\"],\n",
    "        \"load_date\": [\"2025-02-19\", \"2025-02-19\"],\n",
    "        \"record_source\": [\"CRM\", \"CRM\"]\n",
    "    })\n",
    "}\n",
    "\n",
    "# Guardar como archivos CSV\n",
    "for table_name, df in tables.items():\n",
    "    df.to_csv(f\"{table_name}.csv\", index=False)\n",
    "\n",
    "print(\"CSV files generated successfully!\")\n"
   ]
  },
  {
   "cell_type": "code",
   "execution_count": 1,
   "id": "67bbb132-c55a-414f-a574-64f7799e4f7e",
   "metadata": {},
   "outputs": [
    {
     "name": "stdout",
     "output_type": "stream",
     "text": [
      "✅ CSV files generated: Sat_Claim.csv & Sat_Policy.csv\n"
     ]
    }
   ],
   "source": [
    "import pandas as pd\n",
    "\n",
    "# 📌 Sample Data for Sat_Claim\n",
    "sat_claim_data = {\n",
    "    \"claim_hk\": [1001, 1002, 1003],\n",
    "    \"claim_status\": [\"Approved\", \"Pending\", \"Rejected\"],\n",
    "    \"claim_amount\": [5000.00, 3200.50, 7200.00],\n",
    "    \"fraud_detected\": [False, False, True],\n",
    "    \"load_date\": [\"2025-02-19\", \"2025-02-20\", \"2025-02-21\"],\n",
    "    \"record_source\": [\"System_A\", \"System_B\", \"System_C\"]\n",
    "}\n",
    "sat_claim_df = pd.DataFrame(sat_claim_data)\n",
    "sat_claim_df.to_csv(\"Sat_Claim.csv\", index=False)\n",
    "\n",
    "# 📌 Sample Data for Sat_Policy\n",
    "sat_policy_data = {\n",
    "    \"policy_hk\": [2001, 2002, 2003],\n",
    "    \"policy_type\": [\"Auto\", \"Home\", \"Health\"],\n",
    "    \"coverage_amount\": [25000.00, 50000.00, 150000.00],\n",
    "    \"premium\": [150.00, 300.00, 500.00],\n",
    "    \"policy_status\": [\"Active\", \"Lapsed\", \"Expired\"],\n",
    "    \"load_date\": [\"2025-02-19\", \"2025-02-20\", \"2025-02-21\"],\n",
    "    \"record_source\": [\"System_X\", \"System_Y\", \"System_Z\"]\n",
    "}\n",
    "sat_policy_df = pd.DataFrame(sat_policy_data)\n",
    "sat_policy_df.to_csv(\"Sat_Policy.csv\", index=False)\n",
    "\n",
    "print(\"✅ CSV files generated: Sat_Claim.csv & Sat_Policy.csv\")\n"
   ]
  },
  {
   "cell_type": "code",
   "execution_count": null,
   "id": "f83c1bd9-4480-43d2-8d9c-1be23bce2492",
   "metadata": {},
   "outputs": [],
   "source": []
  }
 ],
 "metadata": {
  "kernelspec": {
   "display_name": "Python [conda env:base] *",
   "language": "python",
   "name": "conda-base-py"
  },
  "language_info": {
   "codemirror_mode": {
    "name": "ipython",
    "version": 3
   },
   "file_extension": ".py",
   "mimetype": "text/x-python",
   "name": "python",
   "nbconvert_exporter": "python",
   "pygments_lexer": "ipython3",
   "version": "3.12.7"
  }
 },
 "nbformat": 4,
 "nbformat_minor": 5
}
